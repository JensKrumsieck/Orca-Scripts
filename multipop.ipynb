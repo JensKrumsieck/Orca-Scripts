{
 "cells": [
  {
   "cell_type": "code",
   "execution_count": 18,
   "metadata": {},
   "outputs": [
    {
     "name": "stdout",
     "output_type": "stream",
     "text": [
      "0\n",
      "0\n",
      "0\n",
      "0\n",
      "0\n",
      "0\n",
      "0\n"
     ]
    }
   ],
   "source": [
    "from subprocess import call\n",
    "import os\n",
    "path = \"\"\n",
    "path = r\"C:\\Users\\jenso\\PowerFolders\\Forschung\\DFT\\Simon\\AntimonIV\\Funktionale\"\n",
    "metal = \"Sb\"\n",
    "\n",
    "for file in os.listdir(path):\n",
    "    if \"slurm\" in file:\n",
    "        full_path = path+\"\\\\\"+file\n",
    "        print(call([\"python\", \"orca_pop.py\", full_path, f\"-m {metal}\" ]))"
   ]
  }
 ],
 "metadata": {
  "kernelspec": {
   "display_name": "base",
   "language": "python",
   "name": "python3"
  },
  "language_info": {
   "codemirror_mode": {
    "name": "ipython",
    "version": 3
   },
   "file_extension": ".py",
   "mimetype": "text/x-python",
   "name": "python",
   "nbconvert_exporter": "python",
   "pygments_lexer": "ipython3",
   "version": "3.9.7"
  },
  "orig_nbformat": 4
 },
 "nbformat": 4,
 "nbformat_minor": 2
}
